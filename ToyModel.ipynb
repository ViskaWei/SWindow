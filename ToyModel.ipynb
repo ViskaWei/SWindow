{
 "cells": [
  {
   "cell_type": "code",
   "execution_count": 7,
   "metadata": {},
   "outputs": [],
   "source": [
    "import numpy as np\n",
    "import math\n",
    "import copy\n",
    "import torch\n",
    "LARGEPRIME = 2**61-1\n",
    "# torch.random.manual_seed(42)"
   ]
  },
  {
   "cell_type": "code",
   "execution_count": 4,
   "metadata": {},
   "outputs": [],
   "source": [
    "n=100"
   ]
  },
  {
   "cell_type": "code",
   "execution_count": null,
   "metadata": {},
   "outputs": [],
   "source": [
    "np.random.seed(42)\n",
    "stream = np.random.randint(1,n,size=n)"
   ]
  },
  {
   "cell_type": "code",
   "execution_count": 39,
   "metadata": {},
   "outputs": [],
   "source": [
    "exactL2 = np.linalg.norm(stream, ord=2)"
   ]
  },
  {
   "cell_type": "code",
   "execution_count": 40,
   "metadata": {},
   "outputs": [
    {
     "data": {
      "text/plain": [
       "(array([52, 93, 15, 72, 61, 21, 83, 87, 75, 75, 88, 24,  3, 22, 53,  2, 88,\n",
       "        30, 38,  2, 64, 60, 21, 33, 76, 58, 22, 89, 49, 91, 59, 42, 92, 60,\n",
       "        80, 15, 62, 62, 47, 62, 51, 55, 64,  3, 51,  7, 21, 73, 39, 18,  4,\n",
       "        89, 60, 14,  9, 90, 53,  2, 84, 92, 60, 71, 44,  8, 47, 35, 78, 81,\n",
       "        36, 50,  4,  2,  6, 54,  4, 54, 93, 63, 18, 90, 44, 34, 74, 62, 14,\n",
       "        95, 48, 15, 72, 78, 87, 62, 40, 85, 80, 82, 53, 24, 26, 89]),\n",
       " 583.0583161228386)"
      ]
     },
     "execution_count": 40,
     "metadata": {},
     "output_type": "execute_result"
    }
   ],
   "source": [
    "stream, exactL2"
   ]
  },
  {
   "cell_type": "code",
   "execution_count": 44,
   "metadata": {},
   "outputs": [],
   "source": [
    "class CSNorm(object):\n",
    "    def __init__(self, d, c, r, k=None, device=None):\n",
    "        self.r = r # num of rows\n",
    "        self.c = c # num of columns\n",
    "        self.d = int(d) # vector dimensionality\n",
    "        if device is None:\n",
    "            device = 'cuda' if torch.cuda.is_available() else 'cpu'\n",
    "        else:\n",
    "            if (not isinstance(device, torch.device) and\n",
    "                    not (\"cuda\" in device or device == \"cpu\")):\n",
    "                msg = \"Expected a valid device, got {}\"\n",
    "                raise ValueError(msg.format(device))\n",
    "        self.device = device\n",
    "        self.table = torch.zeros((r, c), device=self.device)\n",
    "\n",
    "        torch.random.manual_seed(42)\n",
    "        rand_state = torch.random.get_rng_state()\n",
    "        self.hashes = torch.randint(0, LARGEPRIME, (self.r, 6),\n",
    "                               dtype=torch.int64, device=\"cpu\")\n",
    "        torch.random.set_rng_state(rand_state)\n",
    "        self.h1 = self.hashes[:,0:1]\n",
    "        self.h2 = self.hashes[:,1:2]\n",
    "        self.h3 = self.hashes[:,2:3]\n",
    "        self.h4 = self.hashes[:,3:4]\n",
    "        self.h5 = self.hashes[:,4:5]\n",
    "        self.h6 = self.hashes[:,5:6]\n",
    "        \n",
    "        self.norm = torch.zeros(1, dtype=torch.int64, device=self.device)\n",
    "#         self.topk = torch.zeros((k,2), dtype=torch.int64, device=self.device)        \n",
    "        \n",
    "    def accumulateVec(self, vec):\n",
    "        assert(len(vec.size()) == 1)\n",
    "        signs = (((self.h1 * vec + self.h2) * vec + self.h3) * vec + self.h4)\n",
    "        signs = ((signs % LARGEPRIME % 2) * 2 - 1).float()\n",
    "        signs = signs.to(self.device)\n",
    "        # computing bucket hashes (2-wise independence)\n",
    "        buckets = ((self.h5 * vec) + self.h6) % LARGEPRIME % self.c\n",
    "        buckets = buckets.to(self.device)\n",
    "        for r in range(self.r):\n",
    "            bucket = buckets[r,:]\n",
    "            sign = signs[r,:]\n",
    "            self.table[r,:] += torch.bincount(input=bucket,\n",
    "                                                weights=sign,\n",
    "                                                minlength=self.c)\n",
    "    def get_norm():\n",
    "        norms = torch.norm(self.table, p=2, dim=1, keepdim=False, out=None, dtype=torch.int64)\n",
    "        print(norms.size)\n",
    "        assert norms.size == self.c\n",
    "        return torch.mean(norms)\n",
    "    \n",
    "#     def _findValues(self, vec):\n",
    "#         # computing sign hashes (4 wise independence)\n",
    "#         signs = (((self.h1 * vec + self.h2) * vec + self.h3) * vec + self.h4)\n",
    "#         signs = ((signs % LARGEPRIME % 2) * 2 - 1).float()\n",
    "#         signs = signs.to(self.device)\n",
    "\n",
    "#         # computing bucket hashes (2-wise independence)\n",
    "#         buckets = ((self.h5 * vec) + self.h6) % LARGEPRIME % self.c\n",
    "#         buckets = buckets.to(self.device)  \n",
    "#         # estimating frequency of input coordinates\n",
    "#         d = vec.size()[0]\n",
    "#         vals = torch.zeros(self.r, d, device=self.device)\n",
    "#         for r in range(self.r):\n",
    "#             vals[r] = self.table[r, buckets[r]] * signs[r]\n",
    "#         return vals.median(dim=0)[0]     \n",
    "            \n",
    "#     def query(self, vec):\n",
    "#         signs = (((self.h1 * vec + self.h2) * vec + self.h3) * vec + self.h4)\n",
    "#         signs = ((signs % LARGEPRIME % 2) * 2 - 1).float()\n",
    "#         signs = signs.to(self.device)\n",
    "#         # computing bucket hashes (2-wise independence)\n",
    "#         buckets = ((self.h5 * vec) + self.h6) % LARGEPRIME % self.c\n",
    "#         buckets = buckets.to(self.device)\n",
    "#         vals = torch.zeros(self.r, vec.size()[0],dtype=torch.int64, device=self.device)#\n",
    "#         for r in range(self.r):\n",
    "#             bucket = buckets[r,:]\n",
    "#             sign = signs[r,:]           \n",
    "#             vals[r] = self.table[r, bucket] * sign\n",
    "#         return vals.median(dim=0)[0]\n",
    "\n"
   ]
  },
  {
   "cell_type": "code",
   "execution_count": 55,
   "metadata": {},
   "outputs": [],
   "source": [
    "d=10000\n",
    "c=2\n",
    "r=1000\n",
    "k=None\n",
    "device='cuda'\n",
    "streamTr=torch.tensor(stream, dtype=torch.int64)"
   ]
  },
  {
   "cell_type": "code",
   "execution_count": 54,
   "metadata": {},
   "outputs": [],
   "source": [
    "def get_norm(streamTr, csv):\n",
    "    d = csv.d\n",
    "    for ii in range(streamTr.shape[0]//d+1):\n",
    "        substream=streamTr[ii*d:(ii+1)*d]\n",
    "        csv.accumulateVec(substream)\n",
    "    norm = csv.get_norm()\n",
    "    del csv\n",
    "    return norm"
   ]
  },
  {
   "cell_type": "code",
   "execution_count": null,
   "metadata": {},
   "outputs": [],
   "source": [
    "def update_sketchs(sketchs, norm):\n",
    "    if len(sketch) < 3:\n",
    "        return torch.cat((sketchs, streamTr[:2]), 0)        \n",
    "    else:\n",
    "        \n",
    "        "
   ]
  },
  {
   "cell_type": "code",
   "execution_count": 62,
   "metadata": {},
   "outputs": [],
   "source": [
    "def get_sketchs(stream, d, c, r, k, device):\n",
    "    sketchs = torch.tensor([], dtype=torch.int64)\n",
    "    for i in range(stream):\n",
    "        streamSeg =stream[:i+1]\n",
    "        if c is None: c=10*k \n",
    "        csv = CSNorm( d, c, r, k, device=device)\n",
    "        norm = get_norm(streamSeg, csv)\n",
    "        sketchs = update_sketchs(sketchs, norm)\n",
    "    return sketchs"
   ]
  },
  {
   "cell_type": "code",
   "execution_count": null,
   "metadata": {},
   "outputs": [],
   "source": []
  },
  {
   "cell_type": "code",
   "execution_count": null,
   "metadata": {},
   "outputs": [],
   "source": []
  },
  {
   "cell_type": "code",
   "execution_count": null,
   "metadata": {},
   "outputs": [],
   "source": []
  },
  {
   "cell_type": "code",
   "execution_count": null,
   "metadata": {},
   "outputs": [],
   "source": [
    "def get_CS_HH(stream,d,c,r,k,device):\n",
    "    if c is None: c=10*k \n",
    "    stream_tr=torch.tensor(stream, dtype=torch.int64)\n",
    "    csv = CSVec( d, c, r, k, device=device)\n",
    "#     t0=time.time()\n",
    "    for ii in range(stream_tr.shape[0]//d+1):\n",
    "        substream=stream_tr[ii*d:(ii+1)*d]\n",
    "        csv.accumulateVec(substream)\n",
    "    norm = csv.get_norm()\n",
    "    HHs=stream_tr.unique()\n",
    "    tfreqs=csv.query(HHs).cpu().numpy()\n",
    "    tfreqs=np.clip(tfreqs,0,None)\n",
    "    idx=np.argsort(-1*tfreqs)    \n",
    "    HHfreq=np.vstack((HHs.numpy(),tfreqs))\n",
    "    t=time.time()-t0\n",
    "    print('sketch counting time:{:.2f}'.format(t))\n",
    "    shh,sfreq=HHfreq[:,idx][:,:k]\n",
    "    return shh,sfreq,t"
   ]
  },
  {
   "cell_type": "code",
   "execution_count": null,
   "metadata": {},
   "outputs": [],
   "source": []
  }
 ],
 "metadata": {
  "kernelspec": {
   "display_name": "Python 3.8.2 64-bit ('ptorch': conda)",
   "language": "python",
   "name": "python38264bitptorchconda526be3fe34db4c6e9ce522e086b57990"
  },
  "language_info": {
   "codemirror_mode": {
    "name": "ipython",
    "version": 3
   },
   "file_extension": ".py",
   "mimetype": "text/x-python",
   "name": "python",
   "nbconvert_exporter": "python",
   "pygments_lexer": "ipython3",
   "version": "3.8.2"
  }
 },
 "nbformat": 4,
 "nbformat_minor": 4
}
