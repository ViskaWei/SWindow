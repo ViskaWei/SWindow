{
 "cells": [
  {
   "cell_type": "code",
   "execution_count": 84,
   "metadata": {},
   "outputs": [],
   "source": [
    "import os\n",
    "import sys\n",
    "import numpy as np\n",
    "import math\n",
    "import copy\n",
    "import torch\n",
    "import pandas as pd\n",
    "import matplotlib.pyplot as plt"
   ]
  },
  {
   "cell_type": "code",
   "execution_count": 85,
   "metadata": {},
   "outputs": [],
   "source": [
    "sys.path.insert(0, '..')"
   ]
  },
  {
   "cell_type": "code",
   "execution_count": 50,
   "metadata": {},
   "outputs": [],
   "source": [
    "DATAPATH ='/home/swei20/SymNormSlidingWindows/out/randn100.csv'"
   ]
  },
  {
   "cell_type": "code",
   "execution_count": 12,
   "metadata": {},
   "outputs": [],
   "source": [
    "DATADIR = '/home/swei20/SymNormSlidingWindows/out/'\n",
    "FILE = 'trff_sport_1010_21:08.csv'\n",
    "path = os.path.join(DATADIR, FILE)"
   ]
  },
  {
   "cell_type": "code",
   "execution_count": null,
   "metadata": {},
   "outputs": [],
   "source": []
  },
  {
   "cell_type": "code",
   "execution_count": 72,
   "metadata": {},
   "outputs": [],
   "source": [
    "def get_path(filename,DATADIR=DATADIR):\n",
    "    return os.path.join(DATADIR, filename)\n",
    "def get_pd(filename):\n",
    "    path = get_path(filename)    \n",
    "    out = pd.read_csv(path)\n",
    "    plot_error(out)  \n",
    "    plot_size_error(out)\n",
    "    return out\n",
    "    "
   ]
  },
  {
   "cell_type": "code",
   "execution_count": 73,
   "metadata": {},
   "outputs": [
    {
     "data": {
      "image/png": "[encoded data removed]",
      "text/plain": [
       "<Figure size 432x288 with 1 Axes>"
      ]
     },
     "metadata": {
      "needs_background": "light"
     },
     "output_type": "display_data"
    }
   ],
   "source": [
    "out2 = get_pd('trff_sport__csL_1011_01:23.csv')"
   ]
  },
  {
   "cell_type": "code",
   "execution_count": 79,
   "metadata": {},
   "outputs": [],
   "source": [
    "stream = np.random.randint(1,100,size =1000)"
   ]
  },
  {
   "cell_type": "code",
   "execution_count": null,
   "metadata": {},
   "outputs": [],
   "source": [
    "os.path.join"
   ]
  },
  {
   "cell_type": "code",
   "execution_count": 83,
   "metadata": {},
   "outputs": [
    {
     "data": {
      "text/plain": [
       "'/home/swei20/SymNormSlidingWindows/nb'"
      ]
     },
     "execution_count": 83,
     "metadata": {},
     "output_type": "execute_result"
    }
   ],
   "source": [
    "os.getcwd()"
   ]
  },
  {
   "cell_type": "code",
   "execution_count": 86,
   "metadata": {},
   "outputs": [],
   "source": [
    "from evals.evalNorm import *"
   ]
  },
  {
   "cell_type": "code",
   "execution_count": 88,
   "metadata": {},
   "outputs": [],
   "source": [
    "norm_fn = norm_function('L2')"
   ]
  },
  {
   "cell_type": "code",
   "execution_count": 91,
   "metadata": {},
   "outputs": [
    {
     "data": {
      "text/plain": [
       "3.1622776601683795"
      ]
     },
     "execution_count": 91,
     "metadata": {},
     "output_type": "execute_result"
    }
   ],
   "source": [
    "get_exact_norm(norm_fn, stream, 100, 10)"
   ]
  },
  {
   "cell_type": "code",
   "execution_count": 80,
   "metadata": {},
   "outputs": [
    {
     "data": {
      "text/plain": [
       "array([14, 62, 31, 21, 91, 41, 58, 78, 91, 47, 20, 47, 40, 12, 43, 91, 78,\n",
       "       82, 44, 76, 99, 68,  4, 65,  7, 83, 62, 60, 28, 83, 46, 78, 96, 48,\n",
       "       33, 28,  3, 30, 48, 12, 38, 23, 88, 14, 78, 14, 79, 84, 81, 76,  1,\n",
       "       78, 30, 22, 33, 14, 47,  1,  2, 27, 38, 56, 96, 51, 15, 29, 45, 68,\n",
       "       89, 11, 11, 11, 57, 76,  3, 47, 94, 53, 45, 75, 65, 98, 52, 50, 54,\n",
       "       49, 99, 12,  2, 10, 30, 55, 47, 11, 87, 88, 18, 99, 70, 54, 53, 51,\n",
       "       24, 16, 42, 62, 61, 19, 78, 23, 92, 76, 41, 61, 41, 31, 25, 67, 92,\n",
       "       99, 11, 57, 86, 33, 93, 77, 70, 20, 11, 30, 86, 55, 28, 98, 34, 97,\n",
       "       29, 64, 33, 30, 38, 78, 47, 92,  4, 43, 90, 49, 15, 45, 62, 60, 56,\n",
       "       24, 85,  4, 14, 96, 90, 85, 64, 76, 75,  4, 61, 55,  1, 22, 84, 85,\n",
       "       45, 48, 85, 85, 25, 51, 36, 19, 19, 39, 89, 51, 21, 36, 84, 10, 25,\n",
       "       90, 46, 36, 11, 22, 36, 39, 74, 43, 57, 19, 39,  5, 69, 66, 73,  2,\n",
       "       42, 51, 92, 81, 42, 28, 50, 67, 69, 58, 52,  8, 79, 37, 38, 23, 69,\n",
       "       11, 96, 78, 14, 65, 49, 80, 10, 22, 57, 25, 27, 79, 66,  6, 96, 30,\n",
       "       54, 15, 64, 27, 29,  9, 28, 49, 91, 90, 31, 62,  8, 81, 87, 23, 12,\n",
       "       25, 15, 57, 71, 46, 42, 21, 22, 25, 28, 92, 25, 28, 41, 27, 16, 36,\n",
       "       28, 98, 61,  9, 57, 96, 61, 30, 20, 12, 93, 62, 95, 83, 40, 23, 21,\n",
       "       58, 30, 75, 54, 29, 51, 21, 46, 28, 71,  6, 77, 74, 71, 28, 55,  7,\n",
       "       36, 42, 67, 32,  8, 78, 70, 73, 67, 41, 87, 47, 13, 34, 22, 36, 50,\n",
       "       92, 55, 36, 15, 88, 44, 50, 31, 59, 73, 96, 14,  4, 10, 43, 92, 26,\n",
       "       39, 71, 47, 63, 85, 52, 32, 56, 30, 60, 88, 60, 59, 67, 23, 84, 45,\n",
       "       24, 49, 62,  6, 46, 61, 99, 28, 32, 62, 51, 23,  8, 50, 47, 15, 11,\n",
       "       94, 92, 81, 15, 26, 40, 66, 88, 72, 45, 93, 80, 16, 79, 20, 67, 98,\n",
       "       12, 21,  4, 82, 32, 49, 74, 97, 43, 14, 12, 11, 19, 62, 98, 54, 34,\n",
       "        9, 88, 34, 36,  3, 44,  6, 66, 22, 43, 36, 45, 68,  8, 43, 75, 25,\n",
       "       48, 49, 88, 88, 26, 12, 40, 94,  1, 76, 16,  5, 65, 19, 77, 47, 93,\n",
       "       83, 52, 58, 38, 22, 56, 80, 86, 31, 59, 87, 57,  2, 72,  8, 50, 42,\n",
       "        7, 63, 89, 12, 47, 85,  2, 93, 15, 57, 56, 48, 98, 35, 55, 67, 50,\n",
       "       10, 79, 95, 12, 40, 22, 72,  5, 40, 61, 17, 46, 83, 99, 12, 65,  2,\n",
       "       56, 72, 63, 34, 99, 55, 59, 92, 36, 12, 53, 96, 96, 18, 84,  7, 60,\n",
       "        5,  5, 34, 68, 37, 96, 90, 93, 99,  3, 33, 85, 64, 50, 61, 57, 16,\n",
       "       92, 91, 86, 81, 37,  3, 83, 19, 26,  5, 78, 75,  6, 95, 30, 57, 93,\n",
       "       96,  5,  8, 78, 88, 86, 79, 48, 88,  9, 40,  8, 12, 21, 27, 91, 63,\n",
       "       85, 46,  3, 26, 65, 90, 68, 65, 43, 71, 51, 94, 60, 81, 68, 64, 45,\n",
       "       29, 78, 58, 75, 23, 63,  8, 84, 39, 52, 71, 14, 46, 78,  5, 41, 84,\n",
       "       96, 27, 41, 90, 91, 20, 67, 68, 55, 15, 85, 88, 97, 34, 29, 49, 36,\n",
       "       75, 62, 24, 23, 47, 91, 59, 57, 79, 29, 14, 44, 21, 66,  6, 89, 79,\n",
       "       32, 13,  6, 86, 46,  4, 98, 10,  1, 39, 57, 98, 12, 26,  3,  7, 22,\n",
       "       91, 24, 74,  9, 46, 38, 13, 73, 59, 83, 58,  4, 54, 10, 16, 44, 53,\n",
       "       20, 34, 78, 71, 95, 37, 15, 19, 71, 50, 94, 32,  7, 34, 17, 60, 47,\n",
       "       15, 19, 93, 76, 49, 54, 73, 58, 24, 88,  5, 31, 27, 67, 45, 11, 88,\n",
       "       73, 63, 33, 57, 11, 41, 29, 43, 85, 28, 33, 47, 56, 82, 17, 26, 45,\n",
       "       40, 73, 55, 92, 37, 29, 98, 70, 87, 91, 53, 15, 57, 66, 35, 49, 57,\n",
       "       29, 52, 86, 94, 62, 47, 77, 98, 12, 16, 64, 18, 10,  1, 13, 70, 46,\n",
       "       15, 20, 89, 17, 25, 95, 31, 72, 48, 73, 35, 90, 82, 30, 28, 98, 75,\n",
       "       44, 35, 12, 24, 56, 51, 14, 66, 20, 97, 56, 39, 39, 79, 49, 16, 42,\n",
       "       99, 37, 90, 49, 30, 99, 11, 63, 85, 78, 71, 45, 83, 61, 54, 15, 48,\n",
       "       16, 10, 89, 19, 61, 15, 50, 36,  7, 96, 77, 18, 59, 55, 78, 85, 86,\n",
       "       51, 15, 95, 14, 41, 67, 10, 29, 60,  7, 67,  5, 56,  6, 85, 96, 84,\n",
       "       30, 14, 80, 77,  8, 16, 58, 96, 94, 99, 21, 73, 66, 18, 90, 76, 25,\n",
       "       21, 64, 13, 48, 57, 45,  4, 39, 66, 13,  7, 79, 35, 60,  1, 93, 31,\n",
       "       67, 15, 92, 80, 34, 17, 44, 50, 60, 48, 63, 87, 63, 47, 70, 28, 68,\n",
       "       28, 13, 26, 31, 51, 99, 74, 44, 82, 92, 76, 29, 86, 60, 16, 22, 12,\n",
       "       43,  3, 42, 46, 84, 75, 35, 18, 27, 33, 25, 51, 89, 90, 37, 87, 85,\n",
       "       76, 75, 61, 24, 86,  6, 86, 72, 63, 15, 55, 58, 87, 65, 81, 31,  9,\n",
       "       90, 45, 29,  5, 45, 23, 76, 72, 89, 44, 53, 89, 57, 51, 17, 78, 18,\n",
       "       42, 29, 44, 49, 81, 75, 87, 12, 99, 98, 56, 21, 48, 25, 74, 74, 51,\n",
       "       78, 57, 88, 19, 97, 19, 37,  4, 81, 90, 83, 88, 24, 53, 25, 64, 74,\n",
       "        4, 74, 97, 71, 39, 64, 46, 34,  7, 89, 93, 32, 50, 95])"
      ]
     },
     "execution_count": 80,
     "metadata": {},
     "output_type": "execute_result"
    }
   ],
   "source": [
    "stream"
   ]
  },
  {
   "cell_type": "code",
   "execution_count": 97,
   "metadata": {},
   "outputs": [
    {
     "data": {
      "text/plain": [
       "13.815510557964274"
      ]
     },
     "execution_count": 97,
     "metadata": {},
     "output_type": "execute_result"
    }
   ],
   "source": [
    "np.log(10000/0.01)"
   ]
  },
  {
   "cell_type": "code",
   "execution_count": 76,
   "metadata": {},
   "outputs": [
    {
     "data": {
      "text/html": [
       "<div>\n",
       "<style scoped>\n",
       "    .dataframe tbody tr th:only-of-type {\n",
       "        vertical-align: middle;\n",
       "    }\n",
       "\n",
       "    .dataframe tbody tr th {\n",
       "        vertical-align: top;\n",
       "    }\n",
       "\n",
       "    .dataframe thead th {\n",
       "        text-align: right;\n",
       "    }\n",
       "</style>\n",
       "<table border=\"1\" class=\"dataframe\">\n",
       "  <thead>\n",
       "    <tr style=\"text-align: right;\">\n",
       "      <th></th>\n",
       "      <th>n</th>\n",
       "      <th>m</th>\n",
       "      <th>w</th>\n",
       "      <th>sRate</th>\n",
       "      <th>c</th>\n",
       "      <th>r</th>\n",
       "      <th>table</th>\n",
       "      <th>exact</th>\n",
       "      <th>uniform</th>\n",
       "      <th>sketch</th>\n",
       "      <th>errCs</th>\n",
       "      <th>errUn</th>\n",
       "    </tr>\n",
       "  </thead>\n",
       "  <tbody>\n",
       "    <tr>\n",
       "      <th>0</th>\n",
       "      <td>65536</td>\n",
       "      <td>10000</td>\n",
       "      <td>1000</td>\n",
       "      <td>0.1</td>\n",
       "      <td>64</td>\n",
       "      <td>4</td>\n",
       "      <td>8.0</td>\n",
       "      <td>593.445869</td>\n",
       "      <td>153.427507</td>\n",
       "      <td>501.71893</td>\n",
       "      <td>0.182825</td>\n",
       "      <td>2.867924</td>\n",
       "    </tr>\n",
       "    <tr>\n",
       "      <th>1</th>\n",
       "      <td>65536</td>\n",
       "      <td>10000</td>\n",
       "      <td>1000</td>\n",
       "      <td>0.1</td>\n",
       "      <td>64</td>\n",
       "      <td>8</td>\n",
       "      <td>9.0</td>\n",
       "      <td>593.445869</td>\n",
       "      <td>165.106027</td>\n",
       "      <td>640.48456</td>\n",
       "      <td>0.073442</td>\n",
       "      <td>2.594332</td>\n",
       "    </tr>\n",
       "    <tr>\n",
       "      <th>2</th>\n",
       "      <td>65536</td>\n",
       "      <td>10000</td>\n",
       "      <td>1000</td>\n",
       "      <td>0.1</td>\n",
       "      <td>128</td>\n",
       "      <td>4</td>\n",
       "      <td>9.0</td>\n",
       "      <td>593.445869</td>\n",
       "      <td>178.829528</td>\n",
       "      <td>486.17200</td>\n",
       "      <td>0.220650</td>\n",
       "      <td>2.318500</td>\n",
       "    </tr>\n",
       "    <tr>\n",
       "      <th>3</th>\n",
       "      <td>65536</td>\n",
       "      <td>10000</td>\n",
       "      <td>1000</td>\n",
       "      <td>0.1</td>\n",
       "      <td>128</td>\n",
       "      <td>8</td>\n",
       "      <td>10.0</td>\n",
       "      <td>593.445869</td>\n",
       "      <td>157.225952</td>\n",
       "      <td>625.26330</td>\n",
       "      <td>0.050886</td>\n",
       "      <td>2.774478</td>\n",
       "    </tr>\n",
       "    <tr>\n",
       "      <th>4</th>\n",
       "      <td>65536</td>\n",
       "      <td>10000</td>\n",
       "      <td>1000</td>\n",
       "      <td>0.1</td>\n",
       "      <td>256</td>\n",
       "      <td>4</td>\n",
       "      <td>10.0</td>\n",
       "      <td>593.445869</td>\n",
       "      <td>175.670145</td>\n",
       "      <td>543.61680</td>\n",
       "      <td>0.091662</td>\n",
       "      <td>2.378183</td>\n",
       "    </tr>\n",
       "    <tr>\n",
       "      <th>5</th>\n",
       "      <td>65536</td>\n",
       "      <td>10000</td>\n",
       "      <td>1000</td>\n",
       "      <td>0.1</td>\n",
       "      <td>256</td>\n",
       "      <td>8</td>\n",
       "      <td>11.0</td>\n",
       "      <td>593.445869</td>\n",
       "      <td>173.378199</td>\n",
       "      <td>666.73890</td>\n",
       "      <td>0.109928</td>\n",
       "      <td>2.422840</td>\n",
       "    </tr>\n",
       "    <tr>\n",
       "      <th>6</th>\n",
       "      <td>65536</td>\n",
       "      <td>10000</td>\n",
       "      <td>1000</td>\n",
       "      <td>0.1</td>\n",
       "      <td>512</td>\n",
       "      <td>4</td>\n",
       "      <td>11.0</td>\n",
       "      <td>593.445869</td>\n",
       "      <td>144.775689</td>\n",
       "      <td>533.80475</td>\n",
       "      <td>0.111728</td>\n",
       "      <td>3.099071</td>\n",
       "    </tr>\n",
       "    <tr>\n",
       "      <th>7</th>\n",
       "      <td>65536</td>\n",
       "      <td>10000</td>\n",
       "      <td>1000</td>\n",
       "      <td>0.1</td>\n",
       "      <td>512</td>\n",
       "      <td>8</td>\n",
       "      <td>12.0</td>\n",
       "      <td>593.445869</td>\n",
       "      <td>170.880075</td>\n",
       "      <td>657.38220</td>\n",
       "      <td>0.097259</td>\n",
       "      <td>2.472879</td>\n",
       "    </tr>\n",
       "    <tr>\n",
       "      <th>8</th>\n",
       "      <td>65536</td>\n",
       "      <td>10000</td>\n",
       "      <td>1000</td>\n",
       "      <td>0.1</td>\n",
       "      <td>1024</td>\n",
       "      <td>4</td>\n",
       "      <td>12.0</td>\n",
       "      <td>593.445869</td>\n",
       "      <td>165.408585</td>\n",
       "      <td>549.26500</td>\n",
       "      <td>0.080436</td>\n",
       "      <td>2.587757</td>\n",
       "    </tr>\n",
       "    <tr>\n",
       "      <th>9</th>\n",
       "      <td>65536</td>\n",
       "      <td>10000</td>\n",
       "      <td>1000</td>\n",
       "      <td>0.1</td>\n",
       "      <td>1024</td>\n",
       "      <td>8</td>\n",
       "      <td>13.0</td>\n",
       "      <td>593.445869</td>\n",
       "      <td>170.821544</td>\n",
       "      <td>654.50050</td>\n",
       "      <td>0.093284</td>\n",
       "      <td>2.474069</td>\n",
       "    </tr>\n",
       "  </tbody>\n",
       "</table>\n",
       "</div>"
      ],
      "text/plain": [
       "       n      m     w  sRate     c  r  table       exact     uniform  \\\n",
       "0  65536  10000  1000    0.1    64  4    8.0  593.445869  153.427507   \n",
       "1  65536  10000  1000    0.1    64  8    9.0  593.445869  165.106027   \n",
       "2  65536  10000  1000    0.1   128  4    9.0  593.445869  178.829528   \n",
       "3  65536  10000  1000    0.1   128  8   10.0  593.445869  157.225952   \n",
       "4  65536  10000  1000    0.1   256  4   10.0  593.445869  175.670145   \n",
       "5  65536  10000  1000    0.1   256  8   11.0  593.445869  173.378199   \n",
       "6  65536  10000  1000    0.1   512  4   11.0  593.445869  144.775689   \n",
       "7  65536  10000  1000    0.1   512  8   12.0  593.445869  170.880075   \n",
       "8  65536  10000  1000    0.1  1024  4   12.0  593.445869  165.408585   \n",
       "9  65536  10000  1000    0.1  1024  8   13.0  593.445869  170.821544   \n",
       "\n",
       "      sketch     errCs     errUn  \n",
       "0  501.71893  0.182825  2.867924  \n",
       "1  640.48456  0.073442  2.594332  \n",
       "2  486.17200  0.220650  2.318500  \n",
       "3  625.26330  0.050886  2.774478  \n",
       "4  543.61680  0.091662  2.378183  \n",
       "5  666.73890  0.109928  2.422840  \n",
       "6  533.80475  0.111728  3.099071  \n",
       "7  657.38220  0.097259  2.472879  \n",
       "8  549.26500  0.080436  2.587757  \n",
       "9  654.50050  0.093284  2.474069  "
      ]
     },
     "execution_count": 76,
     "metadata": {},
     "output_type": "execute_result"
    }
   ],
   "source": [
    "out2"
   ]
  },
  {
   "cell_type": "code",
   "execution_count": 93,
   "metadata": {},
   "outputs": [],
   "source": [
    "def plot_size_error(out):\n",
    "    out1 = out[out['r']==4]\n",
    "    out2 = out[out['r']==8]\n",
    "    \n",
    "    plt.scatter(out1['table'], out1['errCs'], label='r=4')\n",
    "    plt.scatter(out2['table'], out2['errCs'], label='r=8')\n",
    "    plt.legend()\n",
    "    plt.ylabel('error')\n",
    "    plt.xlabel('log2 sketch size')"
   ]
  },
  {
   "cell_type": "code",
   "execution_count": 96,
   "metadata": {},
   "outputs": [
    {
     "ename": "KeyError",
     "evalue": "'table'",
     "output_type": "error",
     "traceback": [
      "\u001b[0;31m---------------------------------------------------------------------------\u001b[0m",
      "\u001b[0;31mKeyError\u001b[0m                                  Traceback (most recent call last)",
      "\u001b[0;32m~/.local/lib/python3.8/site-packages/pandas/core/indexes/base.py\u001b[0m in \u001b[0;36mget_loc\u001b[0;34m(self, key, method, tolerance)\u001b[0m\n\u001b[1;32m   2645\u001b[0m             \u001b[0;32mtry\u001b[0m\u001b[0;34m:\u001b[0m\u001b[0;34m\u001b[0m\u001b[0;34m\u001b[0m\u001b[0m\n\u001b[0;32m-> 2646\u001b[0;31m                 \u001b[0;32mreturn\u001b[0m \u001b[0mself\u001b[0m\u001b[0;34m.\u001b[0m\u001b[0m_engine\u001b[0m\u001b[0;34m.\u001b[0m\u001b[0mget_loc\u001b[0m\u001b[0;34m(\u001b[0m\u001b[0mkey\u001b[0m\u001b[0;34m)\u001b[0m\u001b[0;34m\u001b[0m\u001b[0;34m\u001b[0m\u001b[0m\n\u001b[0m\u001b[1;32m   2647\u001b[0m             \u001b[0;32mexcept\u001b[0m \u001b[0mKeyError\u001b[0m\u001b[0;34m:\u001b[0m\u001b[0;34m\u001b[0m\u001b[0;34m\u001b[0m\u001b[0m\n",
      "\u001b[0;32mpandas/_libs/index.pyx\u001b[0m in \u001b[0;36mpandas._libs.index.IndexEngine.get_loc\u001b[0;34m()\u001b[0m\n",
      "\u001b[0;32mpandas/_libs/index.pyx\u001b[0m in \u001b[0;36mpandas._libs.index.IndexEngine.get_loc\u001b[0;34m()\u001b[0m\n",
      "\u001b[0;32mpandas/_libs/hashtable_class_helper.pxi\u001b[0m in \u001b[0;36mpandas._libs.hashtable.PyObjectHashTable.get_item\u001b[0;34m()\u001b[0m\n",
      "\u001b[0;32mpandas/_libs/hashtable_class_helper.pxi\u001b[0m in \u001b[0;36mpandas._libs.hashtable.PyObjectHashTable.get_item\u001b[0;34m()\u001b[0m\n",
      "\u001b[0;31mKeyError\u001b[0m: 'table'",
      "\nDuring handling of the above exception, another exception occurred:\n",
      "\u001b[0;31mKeyError\u001b[0m                                  Traceback (most recent call last)",
      "\u001b[0;32m<ipython-input-96-c17be010f3e2>\u001b[0m in \u001b[0;36m<module>\u001b[0;34m\u001b[0m\n\u001b[0;32m----> 1\u001b[0;31m \u001b[0mplot_size_error\u001b[0m\u001b[0;34m(\u001b[0m\u001b[0mout\u001b[0m\u001b[0;34m)\u001b[0m\u001b[0;34m\u001b[0m\u001b[0;34m\u001b[0m\u001b[0m\n\u001b[0m",
      "\u001b[0;32m<ipython-input-93-aa8612e5f804>\u001b[0m in \u001b[0;36mplot_size_error\u001b[0;34m(out)\u001b[0m\n\u001b[1;32m      3\u001b[0m     \u001b[0mout2\u001b[0m \u001b[0;34m=\u001b[0m \u001b[0mout\u001b[0m\u001b[0;34m[\u001b[0m\u001b[0mout\u001b[0m\u001b[0;34m[\u001b[0m\u001b[0;34m'r'\u001b[0m\u001b[0;34m]\u001b[0m\u001b[0;34m==\u001b[0m\u001b[0;36m8\u001b[0m\u001b[0;34m]\u001b[0m\u001b[0;34m\u001b[0m\u001b[0;34m\u001b[0m\u001b[0m\n\u001b[1;32m      4\u001b[0m \u001b[0;34m\u001b[0m\u001b[0m\n\u001b[0;32m----> 5\u001b[0;31m     \u001b[0mplt\u001b[0m\u001b[0;34m.\u001b[0m\u001b[0mscatter\u001b[0m\u001b[0;34m(\u001b[0m\u001b[0mout1\u001b[0m\u001b[0;34m[\u001b[0m\u001b[0;34m'table'\u001b[0m\u001b[0;34m]\u001b[0m\u001b[0;34m,\u001b[0m \u001b[0mout1\u001b[0m\u001b[0;34m[\u001b[0m\u001b[0;34m'errCs'\u001b[0m\u001b[0;34m]\u001b[0m\u001b[0;34m,\u001b[0m \u001b[0mlabel\u001b[0m\u001b[0;34m=\u001b[0m\u001b[0;34m'r=4'\u001b[0m\u001b[0;34m)\u001b[0m\u001b[0;34m\u001b[0m\u001b[0;34m\u001b[0m\u001b[0m\n\u001b[0m\u001b[1;32m      6\u001b[0m     \u001b[0mplt\u001b[0m\u001b[0;34m.\u001b[0m\u001b[0mscatter\u001b[0m\u001b[0;34m(\u001b[0m\u001b[0mout2\u001b[0m\u001b[0;34m[\u001b[0m\u001b[0;34m'table'\u001b[0m\u001b[0;34m]\u001b[0m\u001b[0;34m,\u001b[0m \u001b[0mout2\u001b[0m\u001b[0;34m[\u001b[0m\u001b[0;34m'errCs'\u001b[0m\u001b[0;34m]\u001b[0m\u001b[0;34m,\u001b[0m \u001b[0mlabel\u001b[0m\u001b[0;34m=\u001b[0m\u001b[0;34m'r=8'\u001b[0m\u001b[0;34m)\u001b[0m\u001b[0;34m\u001b[0m\u001b[0;34m\u001b[0m\u001b[0m\n\u001b[1;32m      7\u001b[0m     \u001b[0mplt\u001b[0m\u001b[0;34m.\u001b[0m\u001b[0mlegend\u001b[0m\u001b[0;34m(\u001b[0m\u001b[0;34m)\u001b[0m\u001b[0;34m\u001b[0m\u001b[0;34m\u001b[0m\u001b[0m\n",
      "\u001b[0;32m~/.local/lib/python3.8/site-packages/pandas/core/frame.py\u001b[0m in \u001b[0;36m__getitem__\u001b[0;34m(self, key)\u001b[0m\n\u001b[1;32m   2798\u001b[0m             \u001b[0;32mif\u001b[0m \u001b[0mself\u001b[0m\u001b[0;34m.\u001b[0m\u001b[0mcolumns\u001b[0m\u001b[0;34m.\u001b[0m\u001b[0mnlevels\u001b[0m \u001b[0;34m>\u001b[0m \u001b[0;36m1\u001b[0m\u001b[0;34m:\u001b[0m\u001b[0;34m\u001b[0m\u001b[0;34m\u001b[0m\u001b[0m\n\u001b[1;32m   2799\u001b[0m                 \u001b[0;32mreturn\u001b[0m \u001b[0mself\u001b[0m\u001b[0;34m.\u001b[0m\u001b[0m_getitem_multilevel\u001b[0m\u001b[0;34m(\u001b[0m\u001b[0mkey\u001b[0m\u001b[0;34m)\u001b[0m\u001b[0;34m\u001b[0m\u001b[0;34m\u001b[0m\u001b[0m\n\u001b[0;32m-> 2800\u001b[0;31m             \u001b[0mindexer\u001b[0m \u001b[0;34m=\u001b[0m \u001b[0mself\u001b[0m\u001b[0;34m.\u001b[0m\u001b[0mcolumns\u001b[0m\u001b[0;34m.\u001b[0m\u001b[0mget_loc\u001b[0m\u001b[0;34m(\u001b[0m\u001b[0mkey\u001b[0m\u001b[0;34m)\u001b[0m\u001b[0;34m\u001b[0m\u001b[0;34m\u001b[0m\u001b[0m\n\u001b[0m\u001b[1;32m   2801\u001b[0m             \u001b[0;32mif\u001b[0m \u001b[0mis_integer\u001b[0m\u001b[0;34m(\u001b[0m\u001b[0mindexer\u001b[0m\u001b[0;34m)\u001b[0m\u001b[0;34m:\u001b[0m\u001b[0;34m\u001b[0m\u001b[0;34m\u001b[0m\u001b[0m\n\u001b[1;32m   2802\u001b[0m                 \u001b[0mindexer\u001b[0m \u001b[0;34m=\u001b[0m \u001b[0;34m[\u001b[0m\u001b[0mindexer\u001b[0m\u001b[0;34m]\u001b[0m\u001b[0;34m\u001b[0m\u001b[0;34m\u001b[0m\u001b[0m\n",
      "\u001b[0;32m~/.local/lib/python3.8/site-packages/pandas/core/indexes/base.py\u001b[0m in \u001b[0;36mget_loc\u001b[0;34m(self, key, method, tolerance)\u001b[0m\n\u001b[1;32m   2646\u001b[0m                 \u001b[0;32mreturn\u001b[0m \u001b[0mself\u001b[0m\u001b[0;34m.\u001b[0m\u001b[0m_engine\u001b[0m\u001b[0;34m.\u001b[0m\u001b[0mget_loc\u001b[0m\u001b[0;34m(\u001b[0m\u001b[0mkey\u001b[0m\u001b[0;34m)\u001b[0m\u001b[0;34m\u001b[0m\u001b[0;34m\u001b[0m\u001b[0m\n\u001b[1;32m   2647\u001b[0m             \u001b[0;32mexcept\u001b[0m \u001b[0mKeyError\u001b[0m\u001b[0;34m:\u001b[0m\u001b[0;34m\u001b[0m\u001b[0;34m\u001b[0m\u001b[0m\n\u001b[0;32m-> 2648\u001b[0;31m                 \u001b[0;32mreturn\u001b[0m \u001b[0mself\u001b[0m\u001b[0;34m.\u001b[0m\u001b[0m_engine\u001b[0m\u001b[0;34m.\u001b[0m\u001b[0mget_loc\u001b[0m\u001b[0;34m(\u001b[0m\u001b[0mself\u001b[0m\u001b[0;34m.\u001b[0m\u001b[0m_maybe_cast_indexer\u001b[0m\u001b[0;34m(\u001b[0m\u001b[0mkey\u001b[0m\u001b[0;34m)\u001b[0m\u001b[0;34m)\u001b[0m\u001b[0;34m\u001b[0m\u001b[0;34m\u001b[0m\u001b[0m\n\u001b[0m\u001b[1;32m   2649\u001b[0m         \u001b[0mindexer\u001b[0m \u001b[0;34m=\u001b[0m \u001b[0mself\u001b[0m\u001b[0;34m.\u001b[0m\u001b[0mget_indexer\u001b[0m\u001b[0;34m(\u001b[0m\u001b[0;34m[\u001b[0m\u001b[0mkey\u001b[0m\u001b[0;34m]\u001b[0m\u001b[0;34m,\u001b[0m \u001b[0mmethod\u001b[0m\u001b[0;34m=\u001b[0m\u001b[0mmethod\u001b[0m\u001b[0;34m,\u001b[0m \u001b[0mtolerance\u001b[0m\u001b[0;34m=\u001b[0m\u001b[0mtolerance\u001b[0m\u001b[0;34m)\u001b[0m\u001b[0;34m\u001b[0m\u001b[0;34m\u001b[0m\u001b[0m\n\u001b[1;32m   2650\u001b[0m         \u001b[0;32mif\u001b[0m \u001b[0mindexer\u001b[0m\u001b[0;34m.\u001b[0m\u001b[0mndim\u001b[0m \u001b[0;34m>\u001b[0m \u001b[0;36m1\u001b[0m \u001b[0;32mor\u001b[0m \u001b[0mindexer\u001b[0m\u001b[0;34m.\u001b[0m\u001b[0msize\u001b[0m \u001b[0;34m>\u001b[0m \u001b[0;36m1\u001b[0m\u001b[0;34m:\u001b[0m\u001b[0;34m\u001b[0m\u001b[0;34m\u001b[0m\u001b[0m\n",
      "\u001b[0;32mpandas/_libs/index.pyx\u001b[0m in \u001b[0;36mpandas._libs.index.IndexEngine.get_loc\u001b[0;34m()\u001b[0m\n",
      "\u001b[0;32mpandas/_libs/index.pyx\u001b[0m in \u001b[0;36mpandas._libs.index.IndexEngine.get_loc\u001b[0;34m()\u001b[0m\n",
      "\u001b[0;32mpandas/_libs/hashtable_class_helper.pxi\u001b[0m in \u001b[0;36mpandas._libs.hashtable.PyObjectHashTable.get_item\u001b[0;34m()\u001b[0m\n",
      "\u001b[0;32mpandas/_libs/hashtable_class_helper.pxi\u001b[0m in \u001b[0;36mpandas._libs.hashtable.PyObjectHashTable.get_item\u001b[0;34m()\u001b[0m\n",
      "\u001b[0;31mKeyError\u001b[0m: 'table'"
     ]
    }
   ],
   "source": [
    "plot_size_error(out)"
   ]
  },
  {
   "cell_type": "code",
   "execution_count": 70,
   "metadata": {},
   "outputs": [
    {
     "data": {
      "text/plain": [
       "13.287712379549449"
      ]
     },
     "execution_count": 70,
     "metadata": {},
     "output_type": "execute_result"
    }
   ],
   "source": [
    "np.log2(10000)"
   ]
  },
  {
   "cell_type": "code",
   "execution_count": 62,
   "metadata": {},
   "outputs": [],
   "source": [
    "out2['table'] = out2['size']"
   ]
  },
  {
   "cell_type": "code",
   "execution_count": null,
   "metadata": {},
   "outputs": [],
   "source": [
    "get_pd('')"
   ]
  },
  {
   "cell_type": "code",
   "execution_count": 66,
   "metadata": {},
   "outputs": [
    {
     "data": {
      "text/plain": [
       "<matplotlib.collections.PathCollection at 0x7feafc8cdb80>"
      ]
     },
     "execution_count": 66,
     "metadata": {},
     "output_type": "execute_result"
    },
    {
     "data": {
      "image/png": "[encoded data removed]",
      "text/plain": [
       "<Figure size 432x288 with 1 Axes>"
      ]
     },
     "metadata": {
      "needs_background": "light"
     },
     "output_type": "display_data"
    }
   ],
   "source": [
    "plt.scatter(out2['size'], out2['errCs'])"
   ]
  },
  {
   "cell_type": "code",
   "execution_count": 13,
   "metadata": {},
   "outputs": [
    {
     "data": {
      "text/html": [
       "<div>\n",
       "<style scoped>\n",
       "    .dataframe tbody tr th:only-of-type {\n",
       "        vertical-align: middle;\n",
       "    }\n",
       "\n",
       "    .dataframe tbody tr th {\n",
       "        vertical-align: top;\n",
       "    }\n",
       "\n",
       "    .dataframe thead th {\n",
       "        text-align: right;\n",
       "    }\n",
       "</style>\n",
       "<table border=\"1\" class=\"dataframe\">\n",
       "  <thead>\n",
       "    <tr style=\"text-align: right;\">\n",
       "      <th></th>\n",
       "      <th>n</th>\n",
       "      <th>m</th>\n",
       "      <th>w</th>\n",
       "      <th>sRate</th>\n",
       "      <th>c</th>\n",
       "      <th>r</th>\n",
       "      <th>exact</th>\n",
       "      <th>uniform</th>\n",
       "      <th>sketch</th>\n",
       "      <th>sketchErr</th>\n",
       "      <th>uniformErr</th>\n",
       "    </tr>\n",
       "  </thead>\n",
       "  <tbody>\n",
       "    <tr>\n",
       "      <th>0</th>\n",
       "      <td>65536</td>\n",
       "      <td>100</td>\n",
       "      <td>10</td>\n",
       "      <td>0.1</td>\n",
       "      <td>10000</td>\n",
       "      <td>4</td>\n",
       "      <td>6.782330</td>\n",
       "      <td>3.162278</td>\n",
       "      <td>6.782330</td>\n",
       "      <td>7.820036e-09</td>\n",
       "      <td>0.533748</td>\n",
       "    </tr>\n",
       "    <tr>\n",
       "      <th>1</th>\n",
       "      <td>65536</td>\n",
       "      <td>500</td>\n",
       "      <td>50</td>\n",
       "      <td>0.1</td>\n",
       "      <td>10000</td>\n",
       "      <td>4</td>\n",
       "      <td>24.331050</td>\n",
       "      <td>10.488088</td>\n",
       "      <td>21.023796</td>\n",
       "      <td>1.359273e-01</td>\n",
       "      <td>0.568942</td>\n",
       "    </tr>\n",
       "    <tr>\n",
       "      <th>2</th>\n",
       "      <td>65536</td>\n",
       "      <td>1000</td>\n",
       "      <td>100</td>\n",
       "      <td>0.1</td>\n",
       "      <td>10000</td>\n",
       "      <td>4</td>\n",
       "      <td>57.410800</td>\n",
       "      <td>23.237900</td>\n",
       "      <td>51.419840</td>\n",
       "      <td>1.043525e-01</td>\n",
       "      <td>0.595235</td>\n",
       "    </tr>\n",
       "    <tr>\n",
       "      <th>3</th>\n",
       "      <td>65536</td>\n",
       "      <td>5000</td>\n",
       "      <td>500</td>\n",
       "      <td>0.1</td>\n",
       "      <td>10000</td>\n",
       "      <td>4</td>\n",
       "      <td>280.652810</td>\n",
       "      <td>81.975606</td>\n",
       "      <td>257.388800</td>\n",
       "      <td>8.289251e-02</td>\n",
       "      <td>0.707911</td>\n",
       "    </tr>\n",
       "    <tr>\n",
       "      <th>4</th>\n",
       "      <td>65536</td>\n",
       "      <td>10000</td>\n",
       "      <td>1000</td>\n",
       "      <td>0.1</td>\n",
       "      <td>10000</td>\n",
       "      <td>4</td>\n",
       "      <td>593.445869</td>\n",
       "      <td>169.882312</td>\n",
       "      <td>485.297330</td>\n",
       "      <td>1.822382e-01</td>\n",
       "      <td>0.713736</td>\n",
       "    </tr>\n",
       "    <tr>\n",
       "      <th>5</th>\n",
       "      <td>65536</td>\n",
       "      <td>50000</td>\n",
       "      <td>1000</td>\n",
       "      <td>0.1</td>\n",
       "      <td>10000</td>\n",
       "      <td>4</td>\n",
       "      <td>524.125939</td>\n",
       "      <td>163.829179</td>\n",
       "      <td>504.694950</td>\n",
       "      <td>3.707314e-02</td>\n",
       "      <td>0.687424</td>\n",
       "    </tr>\n",
       "  </tbody>\n",
       "</table>\n",
       "</div>"
      ],
      "text/plain": [
       "       n      m     w  sRate      c  r       exact     uniform      sketch  \\\n",
       "0  65536    100    10    0.1  10000  4    6.782330    3.162278    6.782330   \n",
       "1  65536    500    50    0.1  10000  4   24.331050   10.488088   21.023796   \n",
       "2  65536   1000   100    0.1  10000  4   57.410800   23.237900   51.419840   \n",
       "3  65536   5000   500    0.1  10000  4  280.652810   81.975606  257.388800   \n",
       "4  65536  10000  1000    0.1  10000  4  593.445869  169.882312  485.297330   \n",
       "5  65536  50000  1000    0.1  10000  4  524.125939  163.829179  504.694950   \n",
       "\n",
       "      sketchErr  uniformErr  \n",
       "0  7.820036e-09    0.533748  \n",
       "1  1.359273e-01    0.568942  \n",
       "2  1.043525e-01    0.595235  \n",
       "3  8.289251e-02    0.707911  \n",
       "4  1.822382e-01    0.713736  \n",
       "5  3.707314e-02    0.687424  "
      ]
     },
     "execution_count": 13,
     "metadata": {},
     "output_type": "execute_result"
    }
   ],
   "source": [
    "out = pd.read_csv(path)\n",
    "out"
   ]
  },
  {
   "cell_type": "code",
   "execution_count": 14,
   "metadata": {},
   "outputs": [
    {
     "data": {
      "image/png": "[encoded data removed]",
      "text/plain": [
       "<Figure size 432x288 with 1 Axes>"
      ]
     },
     "metadata": {
      "needs_background": "light"
     },
     "output_type": "display_data"
    }
   ],
   "source": [
    "plot_error(out)"
   ]
  },
  {
   "cell_type": "code",
   "execution_count": 52,
   "metadata": {},
   "outputs": [],
   "source": [
    "def plot_error(out):\n",
    "    plt.scatter(np.log10(out.m), out['errCs'], label = 'sketch')\n",
    "    plt.scatter(np.log10(out.m), out['errUn'], label = 'uniform')\n",
    "\n",
    "    plt.legend()\n",
    "    plt.ylabel('error')\n",
    "    plt.xlabel('log stream size m')"
   ]
  },
  {
   "cell_type": "code",
   "execution_count": 69,
   "metadata": {},
   "outputs": [
    {
     "data": {
      "image/png": "[encoded data removed]",
      "text/plain": [
       "<Figure size 432x288 with 1 Axes>"
      ]
     },
     "metadata": {
      "needs_background": "light"
     },
     "output_type": "display_data"
    }
   ],
   "source": [
    "plot_size_error(out2)"
   ]
  },
  {
   "cell_type": "code",
   "execution_count": 68,
   "metadata": {},
   "outputs": [],
   "source": [
    "def plot_size_error(out):\n",
    "    plt.scatter(out['table'], out['errCs'])\n",
    "    plt.ylabel('error')\n",
    "    plt.xlabel('log2 sketch size')"
   ]
  },
  {
   "cell_type": "code",
   "execution_count": 40,
   "metadata": {},
   "outputs": [],
   "source": [
    "from datetime import datetime\n"
   ]
  },
  {
   "cell_type": "code",
   "execution_count": 47,
   "metadata": {},
   "outputs": [],
   "source": [
    "name = 'e'"
   ]
  },
  {
   "cell_type": "code",
   "execution_count": 48,
   "metadata": {},
   "outputs": [],
   "source": [
    "now = datetime.now()\n",
    "name = name + now.strftime(\"%m/%d_%H:%M\")"
   ]
  },
  {
   "cell_type": "code",
   "execution_count": 49,
   "metadata": {},
   "outputs": [
    {
     "data": {
      "text/plain": [
       "'e10/10_00:10'"
      ]
     },
     "execution_count": 49,
     "metadata": {},
     "output_type": "execute_result"
    }
   ],
   "source": [
    "name"
   ]
  },
  {
   "cell_type": "code",
   "execution_count": null,
   "metadata": {},
   "outputs": [],
   "source": []
  },
  {
   "cell_type": "code",
   "execution_count": null,
   "metadata": {},
   "outputs": [],
   "source": []
  }
 ],
 "metadata": {
  "kernelspec": {
   "display_name": "Python 3.8.2 64-bit ('ptorch': conda)",
   "language": "python",
   "name": "python38264bitptorchconda526be3fe34db4c6e9ce522e086b57990"
  },
  "language_info": {
   "codemirror_mode": {
    "name": "ipython",
    "version": 3
   },
   "file_extension": ".py",
   "mimetype": "text/x-python",
   "name": "python",
   "nbconvert_exporter": "python",
   "pygments_lexer": "ipython3",
   "version": "3.8.2"
  }
 },
 "nbformat": 4,
 "nbformat_minor": 4
}
