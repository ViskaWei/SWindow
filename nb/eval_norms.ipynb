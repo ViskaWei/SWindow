{
 "cells": [
  {
   "cell_type": "code",
   "execution_count": 11,
   "metadata": {},
   "outputs": [],
   "source": [
    "import os\n",
    "import numpy as np\n",
    "import math\n",
    "import copy\n",
    "import torch\n",
    "import pandas as pd\n",
    "import matplotlib.pyplot as plt"
   ]
  },
  {
   "cell_type": "code",
   "execution_count": 50,
   "metadata": {},
   "outputs": [],
   "source": [
    "DATAPATH ='/home/swei20/SymNormSlidingWindows/out/randn100.csv'"
   ]
  },
  {
   "cell_type": "code",
   "execution_count": 12,
   "metadata": {},
   "outputs": [],
   "source": [
    "DATADIR = '/home/swei20/SymNormSlidingWindows/out/'\n",
    "FILE = 'trff_sport_1010_21:08.csv'\n",
    "path = os.path.join(DATADIR, FILE)"
   ]
  },
  {
   "cell_type": "code",
   "execution_count": 13,
   "metadata": {},
   "outputs": [
    {
     "data": {
      "text/html": [
       "<div>\n",
       "<style scoped>\n",
       "    .dataframe tbody tr th:only-of-type {\n",
       "        vertical-align: middle;\n",
       "    }\n",
       "\n",
       "    .dataframe tbody tr th {\n",
       "        vertical-align: top;\n",
       "    }\n",
       "\n",
       "    .dataframe thead th {\n",
       "        text-align: right;\n",
       "    }\n",
       "</style>\n",
       "<table border=\"1\" class=\"dataframe\">\n",
       "  <thead>\n",
       "    <tr style=\"text-align: right;\">\n",
       "      <th></th>\n",
       "      <th>n</th>\n",
       "      <th>m</th>\n",
       "      <th>w</th>\n",
       "      <th>sRate</th>\n",
       "      <th>c</th>\n",
       "      <th>r</th>\n",
       "      <th>exact</th>\n",
       "      <th>uniform</th>\n",
       "      <th>sketch</th>\n",
       "      <th>sketchErr</th>\n",
       "      <th>uniformErr</th>\n",
       "    </tr>\n",
       "  </thead>\n",
       "  <tbody>\n",
       "    <tr>\n",
       "      <th>0</th>\n",
       "      <td>65536</td>\n",
       "      <td>100</td>\n",
       "      <td>10</td>\n",
       "      <td>0.1</td>\n",
       "      <td>10000</td>\n",
       "      <td>4</td>\n",
       "      <td>6.782330</td>\n",
       "      <td>3.162278</td>\n",
       "      <td>6.782330</td>\n",
       "      <td>7.820036e-09</td>\n",
       "      <td>0.533748</td>\n",
       "    </tr>\n",
       "    <tr>\n",
       "      <th>1</th>\n",
       "      <td>65536</td>\n",
       "      <td>500</td>\n",
       "      <td>50</td>\n",
       "      <td>0.1</td>\n",
       "      <td>10000</td>\n",
       "      <td>4</td>\n",
       "      <td>24.331050</td>\n",
       "      <td>10.488088</td>\n",
       "      <td>21.023796</td>\n",
       "      <td>1.359273e-01</td>\n",
       "      <td>0.568942</td>\n",
       "    </tr>\n",
       "    <tr>\n",
       "      <th>2</th>\n",
       "      <td>65536</td>\n",
       "      <td>1000</td>\n",
       "      <td>100</td>\n",
       "      <td>0.1</td>\n",
       "      <td>10000</td>\n",
       "      <td>4</td>\n",
       "      <td>57.410800</td>\n",
       "      <td>23.237900</td>\n",
       "      <td>51.419840</td>\n",
       "      <td>1.043525e-01</td>\n",
       "      <td>0.595235</td>\n",
       "    </tr>\n",
       "    <tr>\n",
       "      <th>3</th>\n",
       "      <td>65536</td>\n",
       "      <td>5000</td>\n",
       "      <td>500</td>\n",
       "      <td>0.1</td>\n",
       "      <td>10000</td>\n",
       "      <td>4</td>\n",
       "      <td>280.652810</td>\n",
       "      <td>81.975606</td>\n",
       "      <td>257.388800</td>\n",
       "      <td>8.289251e-02</td>\n",
       "      <td>0.707911</td>\n",
       "    </tr>\n",
       "    <tr>\n",
       "      <th>4</th>\n",
       "      <td>65536</td>\n",
       "      <td>10000</td>\n",
       "      <td>1000</td>\n",
       "      <td>0.1</td>\n",
       "      <td>10000</td>\n",
       "      <td>4</td>\n",
       "      <td>593.445869</td>\n",
       "      <td>169.882312</td>\n",
       "      <td>485.297330</td>\n",
       "      <td>1.822382e-01</td>\n",
       "      <td>0.713736</td>\n",
       "    </tr>\n",
       "    <tr>\n",
       "      <th>5</th>\n",
       "      <td>65536</td>\n",
       "      <td>50000</td>\n",
       "      <td>1000</td>\n",
       "      <td>0.1</td>\n",
       "      <td>10000</td>\n",
       "      <td>4</td>\n",
       "      <td>524.125939</td>\n",
       "      <td>163.829179</td>\n",
       "      <td>504.694950</td>\n",
       "      <td>3.707314e-02</td>\n",
       "      <td>0.687424</td>\n",
       "    </tr>\n",
       "  </tbody>\n",
       "</table>\n",
       "</div>"
      ],
      "text/plain": [
       "       n      m     w  sRate      c  r       exact     uniform      sketch  \\\n",
       "0  65536    100    10    0.1  10000  4    6.782330    3.162278    6.782330   \n",
       "1  65536    500    50    0.1  10000  4   24.331050   10.488088   21.023796   \n",
       "2  65536   1000   100    0.1  10000  4   57.410800   23.237900   51.419840   \n",
       "3  65536   5000   500    0.1  10000  4  280.652810   81.975606  257.388800   \n",
       "4  65536  10000  1000    0.1  10000  4  593.445869  169.882312  485.297330   \n",
       "5  65536  50000  1000    0.1  10000  4  524.125939  163.829179  504.694950   \n",
       "\n",
       "      sketchErr  uniformErr  \n",
       "0  7.820036e-09    0.533748  \n",
       "1  1.359273e-01    0.568942  \n",
       "2  1.043525e-01    0.595235  \n",
       "3  8.289251e-02    0.707911  \n",
       "4  1.822382e-01    0.713736  \n",
       "5  3.707314e-02    0.687424  "
      ]
     },
     "execution_count": 13,
     "metadata": {},
     "output_type": "execute_result"
    }
   ],
   "source": [
    "out = pd.read_csv(path)\n",
    "out"
   ]
  },
  {
   "cell_type": "code",
   "execution_count": 14,
   "metadata": {},
   "outputs": [
    {
     "data": {
      "image/png": "[encoded data removed]",
      "text/plain": [
       "<Figure size 432x288 with 1 Axes>"
      ]
     },
     "metadata": {
      "needs_background": "light"
     },
     "output_type": "display_data"
    }
   ],
   "source": [
    "plot_error(out)"
   ]
  },
  {
   "cell_type": "code",
   "execution_count": 6,
   "metadata": {},
   "outputs": [],
   "source": [
    "def plot_error(out):\n",
    "    plt.scatter(np.log10(out.m), out['sketchErr'], label = 'sketch')\n",
    "    plt.scatter(np.log10(out.m), out['uniformErr'], label = 'uniform')\n",
    "\n",
    "    plt.legend()\n",
    "    plt.ylabel('error')\n",
    "    plt.xlabel('log stream size m')"
   ]
  },
  {
   "cell_type": "code",
   "execution_count": null,
   "metadata": {},
   "outputs": [],
   "source": []
  },
  {
   "cell_type": "code",
   "execution_count": 40,
   "metadata": {},
   "outputs": [],
   "source": [
    "from datetime import datetime\n"
   ]
  },
  {
   "cell_type": "code",
   "execution_count": 47,
   "metadata": {},
   "outputs": [],
   "source": [
    "name = 'e'"
   ]
  },
  {
   "cell_type": "code",
   "execution_count": 48,
   "metadata": {},
   "outputs": [],
   "source": [
    "now = datetime.now()\n",
    "name = name + now.strftime(\"%m/%d_%H:%M\")"
   ]
  },
  {
   "cell_type": "code",
   "execution_count": 49,
   "metadata": {},
   "outputs": [
    {
     "data": {
      "text/plain": [
       "'e10/10_00:10'"
      ]
     },
     "execution_count": 49,
     "metadata": {},
     "output_type": "execute_result"
    }
   ],
   "source": [
    "name"
   ]
  },
  {
   "cell_type": "code",
   "execution_count": null,
   "metadata": {},
   "outputs": [],
   "source": []
  },
  {
   "cell_type": "code",
   "execution_count": null,
   "metadata": {},
   "outputs": [],
   "source": []
  }
 ],
 "metadata": {
  "kernelspec": {
   "display_name": "Python 3.8.2 64-bit ('ptorch': conda)",
   "language": "python",
   "name": "python38264bitptorchconda526be3fe34db4c6e9ce522e086b57990"
  },
  "language_info": {
   "codemirror_mode": {
    "name": "ipython",
    "version": 3
   },
   "file_extension": ".py",
   "mimetype": "text/x-python",
   "name": "python",
   "nbconvert_exporter": "python",
   "pygments_lexer": "ipython3",
   "version": "3.8.2"
  }
 },
 "nbformat": 4,
 "nbformat_minor": 4
}
